{
  "nbformat": 4,
  "nbformat_minor": 0,
  "metadata": {
    "colab": {
      "name": "Копия блокнота \"Untitled1.ipynb\"",
      "provenance": [],
      "collapsed_sections": [],
      "authorship_tag": "ABX9TyPWwxa2os5DK0+nw16VYqHW"
    },
    "kernelspec": {
      "name": "python3",
      "display_name": "Python 3"
    },
    "language_info": {
      "name": "python"
    }
  },
  "cells": [
    {
      "cell_type": "code",
      "execution_count": 20,
      "metadata": {
        "id": "CP8PQ7ERv0Ju"
      },
      "outputs": [],
      "source": [
        "import requests as rq\n",
        "\n",
        "from bs4 import BeautifulSoup"
      ]
    },
    {
      "cell_type": "code",
      "source": [
        "url = 'https://www.vedomosti.ru/ecology?utm_source=vedomosti.ru%2Fgorod&utm_medium=main&utm_campaign=desktop_main'"
      ],
      "metadata": {
        "id": "L8eb5BuHwCGu"
      },
      "execution_count": 21,
      "outputs": []
    },
    {
      "cell_type": "code",
      "source": [
        "page = rq.get(url)\n"
      ],
      "metadata": {
        "id": "oHePpnhpwKZH"
      },
      "execution_count": 22,
      "outputs": []
    },
    {
      "cell_type": "code",
      "source": [
        "soup = BeautifulSoup(page.text, 'html.parser')"
      ],
      "metadata": {
        "id": "z1IkSB-hwsxq"
      },
      "execution_count": 23,
      "outputs": []
    },
    {
      "cell_type": "code",
      "source": [
        "script_=''\n",
        "for tag in soup.find_all('script'):\n",
        "  script_=script_+tag.text\n"
      ],
      "metadata": {
        "id": "hZe4D-G-yJJN"
      },
      "execution_count": 24,
      "outputs": []
    },
    {
      "cell_type": "code",
      "source": [
        "import re"
      ],
      "metadata": {
        "id": "iTx2fjaoOtyA"
      },
      "execution_count": 25,
      "outputs": []
    },
    {
      "cell_type": "code",
      "source": [
        "def remove_quotes_data (x):\n",
        "  stroka=[]\n",
        "  for i in x:    \n",
        "    elem =re.search(r'\".*', i)\n",
        "    elem = elem.group()[1:]\n",
        "    stroka.append(elem)\n",
        "  return(stroka)\n",
        "\n",
        "    "
      ],
      "metadata": {
        "id": "HVrmxuqOOeCg"
      },
      "execution_count": 26,
      "outputs": []
    },
    {
      "cell_type": "code",
      "source": [
        "def remove_quotes_title_subtitle (x):\n",
        "  stroka=[]\n",
        "  for i in x:    \n",
        "    elem =re.search(r'\".*\"', i)\n",
        "    elem = elem.group()[1:]\n",
        "    elem = elem[:-1]\n",
        "    stroka.append(elem)\n",
        "  return(stroka)"
      ],
      "metadata": {
        "id": "jzf3i5tVanPr"
      },
      "execution_count": 27,
      "outputs": []
    },
    {
      "cell_type": "code",
      "source": [
        "def remove_quotes_url (x):\n",
        "  stroka=[]\n",
        "  for i in x:    \n",
        "    elem =re.search(r'\\\\[^\"]+', i)\n",
        "    elem = elem.group()\n",
        "    # elem = elem[:-1]\n",
        "    stroka.append(elem)\n",
        "  return(stroka)"
      ],
      "metadata": {
        "id": "Y_WxQNXjb0mm"
      },
      "execution_count": 28,
      "outputs": []
    },
    {
      "cell_type": "code",
      "source": [
        "data = re.findall(r'},published_at:\"\\d\\d\\d\\d-\\d\\d-\\d\\d', script_)\n",
        "data_cut=remove_quotes_data (data)\n"
      ],
      "metadata": {
        "id": "j0c3uel7O0cj"
      },
      "execution_count": 29,
      "outputs": []
    },
    {
      "cell_type": "code",
      "source": [
        "text = re.findall(r',subtitle:\"[^\"]+\",taggings', script_)\n",
        "text_cut=remove_quotes_title_subtitle (text)"
      ],
      "metadata": {
        "id": "gBczv5mmRmTX"
      },
      "execution_count": 30,
      "outputs": []
    },
    {
      "cell_type": "code",
      "source": [
        "title = re.findall(r',title:\"[^\"]+\",url', script_)\n",
        "titles_cut=remove_quotes_title_subtitle (title)"
      ],
      "metadata": {
        "id": "kYxyhYjOYB2j"
      },
      "execution_count": 31,
      "outputs": []
    },
    {
      "cell_type": "code",
      "source": [
        "source = re.findall(r'\",url:\"[^\"]+\"', script_)\n",
        "source_cut = remove_quotes_url(source)"
      ],
      "metadata": {
        "id": "3wBwHd3FNzrI"
      },
      "execution_count": 32,
      "outputs": []
    },
    {
      "cell_type": "code",
      "source": [
        "news_dict={\"Источник\": source_cut, \"Дата\": data_cut, \"Заголовок\": titles_cut, \"Текст\": text_cut}"
      ],
      "metadata": {
        "id": "qmdypIH3dyrF"
      },
      "execution_count": 33,
      "outputs": []
    },
    {
      "cell_type": "code",
      "source": [
        "import pandas as pd"
      ],
      "metadata": {
        "id": "IgtjFjxxcxRJ"
      },
      "execution_count": 34,
      "outputs": []
    },
    {
      "cell_type": "code",
      "source": [
        "news = pd.DataFrame.from_dict(news_dict, orient=\"columns\")"
      ],
      "metadata": {
        "id": "1vZZqqwadgkV"
      },
      "execution_count": 35,
      "outputs": []
    },
    {
      "cell_type": "code",
      "source": [
        "from google.colab import drive\n",
        "drive.mount('drive')"
      ],
      "metadata": {
        "colab": {
          "base_uri": "https://localhost:8080/"
        },
        "id": "0ez8dorOhxAR",
        "outputId": "6f9afdaf-11fc-429c-dd73-375007aa6830"
      },
      "execution_count": 36,
      "outputs": [
        {
          "output_type": "stream",
          "name": "stdout",
          "text": [
            "Drive already mounted at drive; to attempt to forcibly remount, call drive.mount(\"drive\", force_remount=True).\n"
          ]
        }
      ]
    },
    {
      "cell_type": "code",
      "source": [
        "news.to_csv('/content/drive/My Drive/postcards.csv') "
      ],
      "metadata": {
        "id": "D5gBZK--gm2F"
      },
      "execution_count": 37,
      "outputs": []
    },
    {
      "cell_type": "code",
      "source": [
        "news.to_csv('news.csv')\n",
        "!cp news.csv \"drive/My Drive/\""
      ],
      "metadata": {
        "id": "vnkdu0cRlUfZ"
      },
      "execution_count": 38,
      "outputs": []
    }
  ]
}