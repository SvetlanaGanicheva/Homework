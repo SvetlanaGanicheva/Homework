{
 "cells": [
  {
   "cell_type": "code",
   "execution_count": 2,
   "id": "db857161",
   "metadata": {},
   "outputs": [],
   "source": [
    "# Определитель усталости\n",
    "\n",
    "a = float(input('По шкале от 0 до 10, напишите, насколько Вы устали: '))\n",
    "if 0 <= a < 0.7:\n",
    "    print('Кажется, Вы совсем не устали.')\n",
    "elif 0.7 <= a <= 4.8:\n",
    "    print('Вы немного устали.')\n",
    "elif 4.8 < a <= 7.8:\n",
    "    print('Вы устали.')\n",
    "elif 7.8 < a <= 10.0:\n",
    "    print('Вы очень устали.')\n",
    "else:\n",
    "    print('Пожалуйста, введите число от 0 до 10.')"
   ]
  },
  {
   "cell_type": "code",
   "execution_count": 4,
   "id": "474fe633",
   "metadata": {},
   "outputs": [],
   "source": [
    "# Коктейли\n",
    "import random\n",
    "\n",
    "cocktails = [\n",
    "    [\"мартини\",\"грейпфрутовый сок\",\"жасмин\",\"тоник\",\"лосось\"],\n",
    "    [\"клубника\",\"какао\",\"мята\",\"марсала\"],\n",
    "    [\"водка\",\"томатный сок\",\"лимонный сок\",\"вустерширский соус\",\"черный перец\",\"сельдерей\",\"лосось\"],\n",
    "    [\"джин\",\"вермут\",\"ликер мараскино\",\"апельсины\",\"коктейльная вишня\",\"лосось\"],\n",
    "    [\"ром\",\"авокадо\",\"сахарный сироп\",\"сливки\",\"лимонный сок\",\"лед\"],\n",
    "    [\"красный вермут\",\"тоник\",\"апельсины\",\"лосось\"],\n",
    "    [\"только чай\"]\n",
    "        ]\n",
    "for i in cocktails:\n",
    "    if \"лосось\" in i:\n",
    "        i.remove(\"лосось\")\n",
    "ingredients = random.choice(cocktails)\n",
    "\n",
    "print(\"Сегодня в вашем коктейле будет: \"+ str(ingredients) + '.')"
   ]
  },
  {
   "cell_type": "code",
   "execution_count": 6,
   "id": "fad7bb45",
   "metadata": {},
   "outputs": [],
   "source": [
    "# Города\n",
    "postcards = {\n",
    "    \"Maria\":\"London\",\n",
    "    \"Lorenzo\":\"Milan\",\n",
    "    \"Oleg\":\"Canberra\",\n",
    "    \"Hans\":\"Calgary\",\n",
    "    \"Mark\":\"Milan\",\n",
    "    \"Alex\":\"Krakow\",\n",
    "    \"Julia\":\"Murmansk\"\n",
    "}\n",
    "postcards['Petra'] = 'Paris'\n",
    "postcards['Ivan'] = 'Moscow'\n",
    "postcards['Oleg'] = 'Sydney'\n",
    "cities = set(postcards.values())\n",
    "number = len(cities)\n",
    "print('На самом деле всего ' + str(number) + ' уникальных городов: ' + str(cities) + '.')"
   ]
  }
 ],
 "metadata": {
  "kernelspec": {
   "display_name": "Python 3 (ipykernel)",
   "language": "python",
   "name": "python3"
  },
  "language_info": {
   "codemirror_mode": {
    "name": "ipython",
    "version": 3
   },
   "file_extension": ".py",
   "mimetype": "text/x-python",
   "name": "python",
   "nbconvert_exporter": "python",
   "pygments_lexer": "ipython3",
   "version": "3.10.0"
  }
 },
 "nbformat": 4,
 "nbformat_minor": 5
}
